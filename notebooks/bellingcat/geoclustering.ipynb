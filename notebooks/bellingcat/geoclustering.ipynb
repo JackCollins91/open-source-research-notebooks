{
 "cells": [
  {
   "cell_type": "markdown",
   "metadata": {},
   "source": [
    "# Geoclustering\n",
    "A Command Line tool to cluster geolocated events and enable pattern analysis.\n",
    "\n",
    "Read [more about the tool's features and goals](https://github.com/bellingcat/geoclustering)."
   ]
  },
  {
   "cell_type": "markdown",
   "metadata": {},
   "source": [
    "### Step 1 - install the python package\n",
    "You can do so with this command `!pip install geoclustering[full]`, below we escape the brackets (`\\[` and `\\]`) with a traling backslash due to jupyter notebooks code interpretation."
   ]
  },
  {
   "cell_type": "code",
   "execution_count": null,
   "metadata": {},
   "outputs": [],
   "source": [
    "!pip install geoclustering\\[full\\]"
   ]
  },
  {
   "cell_type": "markdown",
   "metadata": {},
   "source": [
    "### Step 2 - Get a full command line description by calling `help` \n",
    "This will show all the command line options we can use and what each of them does"
   ]
  },
  {
   "cell_type": "code",
   "execution_count": null,
   "metadata": {},
   "outputs": [],
   "source": [
    "!geoclustering --help"
   ]
  },
  {
   "cell_type": "markdown",
   "metadata": {},
   "source": [
    "## Step 3 - fetch our data in CSV format\n",
    "\n",
    "As an example we're using Bellingcat's Civilian Harm in Ukraine dataset.\n",
    "\n",
    "You can download a ready copy of the data from 2024-01-17 from the [repository](https://github.com/bellingcat/open-source-research-notebooks/blob/main/notebooks/bellingcat/civharm.csv).\n",
    "\n",
    "The following `wget` command will use the URL to download the file to this notebook's environment."
   ]
  },
  {
   "cell_type": "code",
   "execution_count": null,
   "metadata": {},
   "outputs": [],
   "source": [
    "!wget https://github.com/bellingcat/open-source-research-notebooks/blob/main/notebooks/bellingcat/civharm.csv"
   ]
  },
  {
   "cell_type": "markdown",
   "metadata": {},
   "source": [
    "Alternatively, you can download the latest data from [ukraine.bellingcat.com](https://ukraine.bellingcat.com/), see this image:\n",
    "\n",
    "![image](https://github.com/bellingcat/geoclustering/assets/19508417/d7d59372-cf26-4692-ba3c-fc29f9152aae)\n",
    "\n",
    "Save the file to your computer as `civharm.csv`, and change the column names \"latitude\" to \"lat\" and \"longitude\" to \"lon\".\n",
    "\n",
    "\n",
    "With your ready `civharm.csv` file, upload it to the notebook folder (this will be different for Google Colab, Binder, etc but should always be straightforward by searching for the folder/upload button and selecting your CSV file).\n",
    "\n",
    "Run the cell bellow to check the file is available, the `head` command reads the first lines of a file, this way you'll know your CSV looks good."
   ]
  },
  {
   "cell_type": "code",
   "execution_count": null,
   "metadata": {},
   "outputs": [],
   "source": [
    "!head civharm.csv"
   ]
  },
  {
   "cell_type": "markdown",
   "metadata": {},
   "source": [
    "### Step 4 - call the tool\n",
    "You can look at the output from the `help` command to understand the tool configurations, in the example bellow we're looking for clusters of at least 5 incidents (`--size 5`) and within a distance of 750m (`--distance 0.75` in km).\n",
    "\n",
    "The `--open` flag will open the map visualization of your clusters as soon as the tool finishes (only works on some Jupyter environments)."
   ]
  },
  {
   "cell_type": "code",
   "execution_count": null,
   "metadata": {},
   "outputs": [],
   "source": [
    "!geoclustering --size 2 --distance 0.75 civharm.csv"
   ]
  },
  {
   "cell_type": "markdown",
   "metadata": {},
   "source": [
    "You should see a `Clustering completed.` message and a link to the output folder, usually `/output` inside the folder you're in now.\n",
    "\n",
    "This folder contains:\n",
    "- a `result.csv` with the clusters information\n",
    "- a `result.geojson` with the same information in a mapping-friendly format (see [GEOJSON](https://geojson.org/))\n",
    "- a `result.json` \"\" as JSON\n",
    "- a `result.txt` \"\" as TXT (easy to read)\n",
    "- a `result.html` \"\" as HTML\n",
    "\n",
    "All formats except the `.html` can easily be further analysed or transformed. \n",
    "\n",
    "You can download the `.html` (or open it directly if you're running this notebook on your computer) and see an interactive Kepler.gl map where you can visually explore the existing clusters, see this screenshot:\n",
    "\n",
    "![image](https://github.com/bellingcat/geoclustering/assets/19508417/20d95122-8b14-4795-baed-2c4b556f2196)\n"
   ]
  },
  {
   "cell_type": "markdown",
   "metadata": {},
   "source": [
    "That's it, you can now explore different datasets and configurations for the tool. \n",
    "\n",
    "For instance you can change the clustering algorithm with `--algorithm optics` or play around with the cluster `--size` or the minimum `--distance` between the incidents that are grouped into a cluster."
   ]
  }
 ],
 "metadata": {
  "kernelspec": {
   "display_name": "open-source-research-notebooks-4sg58OrJ",
   "language": "python",
   "name": "python3"
  },
  "language_info": {
   "codemirror_mode": {
    "name": "ipython",
    "version": 3
   },
   "file_extension": ".py",
   "mimetype": "text/x-python",
   "name": "python",
   "nbconvert_exporter": "python",
   "pygments_lexer": "ipython3",
   "version": "3.10.12"
  }
 },
 "nbformat": 4,
 "nbformat_minor": 2
}
