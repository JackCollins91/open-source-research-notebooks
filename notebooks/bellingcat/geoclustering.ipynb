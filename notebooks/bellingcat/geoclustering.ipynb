{
 "cells": [
  {
   "cell_type": "markdown",
   "metadata": {},
   "source": [
    "# Geoclustering\n",
    "A Command Line tool to cluster geolocated events and enable pattern analysis.\n",
    "\n",
    "Read [more about the tool's features and goals](https://github.com/bellingcat/geoclustering)."
   ]
  },
  {
   "cell_type": "markdown",
   "metadata": {},
   "source": [
    "### Step 1 - install the python package\n",
    "You can do so with this command `!pip install geoclustering[full]`, below we escape the brackets (`\\[` and `\\]`) with a traling backslash due to jupyter notebooks code interpretation."
   ]
  },
  {
   "cell_type": "code",
   "execution_count": null,
   "metadata": {},
   "outputs": [],
   "source": [
    "!pip install geoclustering\\[full\\]"
   ]
  },
  {
   "cell_type": "markdown",
   "metadata": {},
   "source": [
    "### Step 2 - Get a full command line description by calling `help` \n",
    "This will show all the command line options we can use and what each of them does"
   ]
  },
  {
   "cell_type": "code",
   "execution_count": 5,
   "metadata": {},
   "outputs": [
    {
     "name": "stdout",
     "output_type": "stream",
     "text": [
      "Usage: geoclustering [OPTIONS] FILENAME\n",
      "\n",
      "  Tool to cluster geolocations. A cluster is created when a certain number of\n",
      "  points (defined with --size) each are within a given distance (defined with\n",
      "  --distance) of at least one other point in the cluster. Input is supplied as\n",
      "  a csv file. At a minimum, each row needs to have a 'lat' and a 'lon' column.\n",
      "  Other rows are reflected to the output.\n",
      "\n",
      "Options:\n",
      "  -d, --distance FLOAT            (in km) Max. distance between two points in\n",
      "                                  a cluster.  [required]\n",
      "  -s, --size INTEGER              Min. number of points in a cluster.\n",
      "                                  [required]\n",
      "  -o, --output PATH               Output directory for results. Default:\n",
      "                                  ./output\n",
      "  -a, --algorithm [dbscan|optics]\n",
      "                                  Clustering algorithm to be used. `optics`\n",
      "                                  produces tighter clusters but is slower.\n",
      "                                  Default: dbscan\n",
      "  --open                          Open the generated visualization in the\n",
      "                                  default browser automatically.\n",
      "  --debug                         Print debug output.\n",
      "  --help                          Show this message and exit.\n"
     ]
    }
   ],
   "source": [
    "!geoclustering --help"
   ]
  },
  {
   "cell_type": "markdown",
   "metadata": {},
   "source": [
    "## Step 3 - fetch our data in CSV format\n",
    "\n",
    "As an example we're using Bellingcat's Civilian Harm in Ukraine dataset.\n",
    "\n",
    "You can download a ready copy of the data from 2024-01-17 from the [repository](https://github.com/bellingcat/open-source-research-notebooks/blob/main/notebooks/bellingcat/civharm.csv).\n",
    "\n",
    "Alternatively, you can download it from [ukraine.bellingcat.com](https://ukraine.bellingcat.com/), see this image:\n",
    "\n",
    "![image](https://github.com/bellingcat/geoclustering/assets/19508417/d7d59372-cf26-4692-ba3c-fc29f9152aae)\n",
    "\n",
    "Save the file to your computer as `civharm.csv`, and change the column names \"latitude\" to \"lat\" and \"longitude\" to \"lon\".\n",
    "\n",
    "\n",
    "With your ready `civharm.csv` file, upload it to the notebook folder (this will be different for Google Colab, Binder, etc but should always be straightforward by searching for the folder/upload button and selecting your CSV file).\n",
    "\n",
    "Run the cell bellow to check the file is available, the `head` command reads the first lines of a file, this way you'll know your CSV looks good."
   ]
  },
  {
   "cell_type": "code",
   "execution_count": 7,
   "metadata": {},
   "outputs": [
    {
     "name": "stdout",
     "output_type": "stream",
     "text": [
      "\"id\",\"date\",\"lat\",\"lon\",\"location\",\"description\",\"sources\",\"associations\"\n",
      "\"CIV0098\",\"02/24/2022\",\"49.212119\",\"38.905921\",\"\",\"Individual injured by shelling, ambulance responds.\",\"https://www.facebook.com/story.php?story_fbid=317408247086919&id=100064532388988\",\"Type of area affected=Residential,Weapon System=Unknown\"\n",
      "\"CIV0013\",\"02/24/2022\",\"48.055395\",\"37.7783\",\"\",\"Apparent strike on hospital in separatist held area.\",\"https://twitter.com/City_Donetsk/status/1496877801689038859\",\"Type of area affected=Healthcare,Weapon System=Unknown\"\n",
      "\"CIV0004\",\"02/24/2022\",\"47.775609\",\"37.239673\",\"\",\"Explosion in central Kyiv, nothing further yet.\",\"https://twitter.com/N_Waters89/status/1496856695896969222,https://twitter.com/IBN_MOHAMMAD/status/1496778855863963650,https://twitter.com/amnestypress/status/1496872501447700481,https://twitter.com/TiranaHassan/status/1497348792038924290,https://www.hrw.org/news/2022/02/25/ukraine-russian-cluster-munition-hits-hospital\",\"Type of area affected=Healthcare,Weapon System=Cluster munitions\"\n",
      "\"CIV0011\",\"02/24/2022\",\"50.30831\",\"34.880702\",\"\",\"Civilian buildings damaged and destroyed by shelling. \",\"https://t.me/nexta_live/16696\",\"Type of area affected=Commercial,Weapon System=Unknown\"\n",
      "\"CIV0008\",\"02/24/2022\",\"47.117099\",\"37.684831\",\"\",\"civilian homes hit by artillery. \",\"https://t.me/mariupolrada/8465,https://twitter.com/IntelCrab/status/1496840102651256832\",\"Type of area affected=Residential,Weapon System=Unknown\"\n",
      "\"CIV0007\",\"02/24/2022\",\"46.227914\",\"34.642854\",\"\",\"[Graphic: Image shows a dead child wrapped in a blanket] Child killed by explosion.\",\"https://t.me/Pravda_Gerashchenko/190,https://twitter.com/GayanaYuksel/status/1496831609902968840\",\"Weapon System=Unknown\"\n",
      "\"CIV0002\",\"02/24/2022\",\"48.748938\",\"30.218889\",\"\",\"Civilians hit by what appears to have been artillery, possibly a rocket. Appears to have been at least one fatality, possibly a child. \",\"https://twitter.com/realistqx1/status/1496757503195029508,https://twitter.com/ragipsoylu/status/1496737243255480321,https://twitter.com/Liveuamap/status/1496739229040537603,https://twitter.com/AFP/status/1496768532448788482\",\"Type of area affected=Commercial,Weapon System=Air strike\"\n",
      "\"CIV0001\",\"02/24/2022\",\"49.850781\",\"36.659762\",\"\",\"Apartment block hit. Crater is very large, possibly cruise or ballistic missile as part of attack on nearby airport. Appear to have been multiple civilian casualties, AA Agency reporting 1 x fatality 12 x wounded.\",\"https://twitter.com/PDocumentarians/status/1496731018723835907,https://twitter.com/JimmySecUK/status/1496754882002534400,https://twitter.com/AFP/status/1496778152387178508,https://twitter.com/AlexanderLouri4/status/1496761690561683456,https://twitter.com/Michael1Sheldon/status/1496717647089651716,https://twitter.com/AlexanderLouri4/status/1496783483745755141,https://twitter.com/AlexanderLouri4/status/1496762766316687363,https://twitter.com/666_mancer/status/1496868095842865154,https://twitter.com/AlexanderLouri4/status/1496765032167710723,https://twitter.com/anadoluagency/status/1496768205314007040\",\"Type of area affected=Residential,Weapon System=Unknown\"\n",
      "\"CIV0010\",\"02/24/2022\",\"48.051489\",\"37.778075\",\"\",\"Artillery fire on what appears to be an urban area.\",\"https://twitter.com/Caucasuswar/status/1496846910912610309\",\"Type of area affected=Healthcare,Weapon System=Unknown\"\n"
     ]
    }
   ],
   "source": [
    "!head civharm.csv"
   ]
  },
  {
   "cell_type": "markdown",
   "metadata": {},
   "source": []
  },
  {
   "cell_type": "markdown",
   "metadata": {},
   "source": [
    "### Step 4 - call the tool\n",
    "You can look at the output from the `help` command to understand the tool configurations, in the example bellow we're looking for clusters of at least 5 incidents (`--size 5`) and within a distance of 750m (`--distance 0.75` in km).\n",
    "\n",
    "The `--open` flag will open the map visualization of your clusters as soon as the tool finishes."
   ]
  },
  {
   "cell_type": "code",
   "execution_count": 9,
   "metadata": {},
   "outputs": [
    {
     "name": "stdout",
     "output_type": "stream",
     "text": [
      "Removed 1 empty coordinate pairs.\n",
      "Output files saved to /home/m/dev/bcat/open-source-research-notebooks/notebooks/bellingcat/output\n",
      "\u001b[32mClustering completed.\u001b[0m\n"
     ]
    }
   ],
   "source": [
    "!geoclustering --size 2 --distance 0.75 civharm.csv"
   ]
  },
  {
   "cell_type": "markdown",
   "metadata": {},
   "source": [
    "You should see a `Clustering completed.` message and a link to the output folder, usually `/output` inside the folder you're in now.\n",
    "\n",
    "This folder contains:\n",
    "- a `result.csv` with the clusters information\n",
    "- a `result.geojson` with the same information in a mapping-friendly format (see [GEOJSON](https://geojson.org/))\n",
    "- a `result.json` \n",
    "- a `result.txt`\n",
    "- a `result.html`\n",
    "\n",
    "All formats except the `.html` can easily be further analysed or transformed. \n",
    "\n",
    "You can download the `.html` (or open it directly if you're running this notebook on your computer) and see an interactive Kepler.gl map where you can visually explore the existing clusters, like this one:\n",
    "\n",
    "![image](https://github.com/bellingcat/geoclustering/assets/19508417/20d95122-8b14-4795-baed-2c4b556f2196)\n"
   ]
  },
  {
   "cell_type": "markdown",
   "metadata": {},
   "source": [
    "That's it, you can now explore different datasets and configurations for the tool. \n",
    "\n",
    "For instance you can change the clustering algorithm with `--algorithm optics` or play around with the cluster `--size` or the minimum `--distance` between the incidents that are grouped into a cluster."
   ]
  }
 ],
 "metadata": {
  "kernelspec": {
   "display_name": "open-source-research-notebooks-4sg58OrJ",
   "language": "python",
   "name": "python3"
  },
  "language_info": {
   "codemirror_mode": {
    "name": "ipython",
    "version": 3
   },
   "file_extension": ".py",
   "mimetype": "text/x-python",
   "name": "python",
   "nbconvert_exporter": "python",
   "pygments_lexer": "ipython3",
   "version": "3.10.12"
  }
 },
 "nbformat": 4,
 "nbformat_minor": 2
}
