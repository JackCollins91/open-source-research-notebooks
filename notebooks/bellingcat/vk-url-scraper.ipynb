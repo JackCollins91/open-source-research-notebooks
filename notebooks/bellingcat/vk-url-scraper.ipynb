{
 "cells": [
  {
   "cell_type": "markdown",
   "metadata": {},
   "source": [
    "# VK URL Scraper\n",
    "This tool allows you to download all the information and media from one or many VKontakte/ВКонтакте/VK URLs in [JSON](https://developer.mozilla.org/en-US/docs/Learn/JavaScript/Objects/JSON) format, along with all their media.\n",
    "\n",
    "To use it, you first need to create an account on the platform which typically requires a valid phone number and email. \n",
    "\n",
    "This notebook will show you how to authenticate into VK with Bellingcat's [vk-url-scraper](https://github.com/bellingcat/vk-url-scraper/) tool and how to then download posts from the social media site, including media such as photos and videos.\n",
    "\n",
    "- Code and issue management: https://github.com/bellingcat/vk-url-scraper/\n",
    "- Python package: https://pypi.org/project/vk-url-scraper/\n",
    "- Documentation: https://vk-url-scraper.readthedocs.io/en/latest/"
   ]
  },
  {
   "cell_type": "markdown",
   "metadata": {},
   "source": [
    "To run this notebook you need a valid `username/phone` and `password` for vk.com. \n",
    "\n",
    "Enter these below and they will be used throughout the notebook."
   ]
  },
  {
   "cell_type": "code",
   "execution_count": null,
   "metadata": {},
   "outputs": [],
   "source": [
    "USER = \"your_username_or_phone_here\"\n",
    "PASS = \"your_password_here\""
   ]
  },
  {
   "cell_type": "markdown",
   "metadata": {},
   "source": [
    "### Step 1 - install the python package\n",
    "This project depends on another tool whose python packaged has not been updated at time of writing, so we have to hack its instalation directly from github, and accordingly perform the authentication into VK with some Python code in Step 2."
   ]
  },
  {
   "cell_type": "code",
   "execution_count": null,
   "metadata": {},
   "outputs": [],
   "source": [
    "%%bash\n",
    "# install correct dependency and then vk-url-scraper\n",
    "pip install git+https://github.com/python273/vk_api.git@77b5a0d51a6bbf54d59554332f28a488615fbd6c\n",
    "pip install vk-url-scraper"
   ]
  },
  {
   "cell_type": "code",
   "execution_count": null,
   "metadata": {},
   "outputs": [],
   "source": [
    "# to make sure the installation is successful we can call the help method of the tool\n",
    "!vk_url_scraper --help"
   ]
  },
  {
   "cell_type": "markdown",
   "metadata": {},
   "source": [
    "### Step 2 - login\n",
    "The next cell contains helper python code needed the first time you login."
   ]
  },
  {
   "cell_type": "code",
   "execution_count": null,
   "metadata": {},
   "outputs": [],
   "source": [
    "import vk_api\n",
    "\n",
    "def captcha_handler(captcha):\n",
    "    key = input(\n",
    "        f\"CAPTCHA DETECTED, please solve it and input the solution. url= {captcha.get_url()} :\"\n",
    "    ).strip()\n",
    "    return captcha.try_again(key.strip())"
   ]
  },
  {
   "cell_type": "markdown",
   "metadata": {},
   "source": [
    "The next code cell tries to login with the credentials you provided above.\n",
    "\n",
    "You may get a `CAPTCHA DETECTED` message and a URL. In that case, go to the URL, solve the captcha and input it by clicking on the text box on the right of the message (different notebook environments have different appearances and in some the textbox is only visible when you click it)."
   ]
  },
  {
   "cell_type": "code",
   "execution_count": null,
   "metadata": {},
   "outputs": [],
   "source": [
    "(vk_api.VkApi(USER,PASS,captcha_handler=captcha_handler)).auth(token_only=True)"
   ]
  },
  {
   "cell_type": "markdown",
   "metadata": {},
   "source": [
    "A `vk_config.v2.json` file should have been created, it contains your access tokens so don't share it. \n",
    "\n",
    "When that file is present you don't need to re-run the python code in this section. "
   ]
  },
  {
   "cell_type": "markdown",
   "metadata": {},
   "source": [
    "### Step 3 - scrape a post\n",
    "We will scrape a post with both text and images using the VK API: https://vk.com/wall-152947668_126406\n",
    "\n",
    "This will only work if the `vk_config.v2.json` file is present (see Step 2).\n",
    "\n",
    "The results will be written to `scraped.json` file, if you want to see it in the console remove the final part of the command `> scraped.json`."
   ]
  },
  {
   "cell_type": "code",
   "execution_count": null,
   "metadata": {},
   "outputs": [],
   "source": [
    "!vk_url_scraper --username \"{USER}\" --password \"{PASS}\" --urls https://vk.com/wall-152947668_126406 > scraped.json"
   ]
  },
  {
   "cell_type": "code",
   "execution_count": null,
   "metadata": {},
   "outputs": [],
   "source": [
    "# let's read the first lines of scraped.json to make sure it's working\n",
    "!head scraped.json"
   ]
  },
  {
   "cell_type": "markdown",
   "metadata": {},
   "source": [
    "Besides the post data, we can automatically `--download` the media.\n",
    "\n",
    "Let's pass two URLs, one with images and one with videos and download all of them.\n",
    "\n",
    "You can add as many as you want at once, so long as you separate them by a comma `,`. \n",
    "\n",
    "The JSON will be written to the console, you can direct it to a JSON file for latter processing by appending `> my_output_filename.json`."
   ]
  },
  {
   "cell_type": "code",
   "execution_count": null,
   "metadata": {},
   "outputs": [],
   "source": [
    "!vk_url_scraper --username \"{USER}\" --password \"{PASS}\" --download --urls \"https://vk.com/wall-152947668_126406,https://vk.com/video/@kot_minsk?z=video-28021233_456239018%2Fclub28021233%2Fpl_-28021233\"_-2"
   ]
  },
  {
   "cell_type": "markdown",
   "metadata": {},
   "source": [
    "This tool can be used, for example, to automate the scraping and download of large number of URLs from VK."
   ]
  }
 ],
 "metadata": {
  "kernelspec": {
   "display_name": "open-source-research-notebooks-4sg58OrJ",
   "language": "python",
   "name": "python3"
  },
  "language_info": {
   "codemirror_mode": {
    "name": "ipython",
    "version": 3
   },
   "file_extension": ".py",
   "mimetype": "text/x-python",
   "name": "python",
   "nbconvert_exporter": "python",
   "pygments_lexer": "ipython3",
   "version": "3.10.12"
  }
 },
 "nbformat": 4,
 "nbformat_minor": 2
}
