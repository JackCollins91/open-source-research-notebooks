{
 "cells": [
  {
   "cell_type": "markdown",
   "metadata": {},
   "source": [
    "# ExifTool\n",
    "A Command Line tool to read and write file metadata.\n",
    "\n",
    "Read [the documentation](https://exiftool.org/)."
   ]
  },
  {
   "cell_type": "markdown",
   "metadata": {},
   "source": [
    "Although there's many online tools that allow you to read a file's metadata:\n",
    "- https://exif.tools/\n",
    "- https://exifmeta.com/\n",
    "- https://www.metadata2go.com/\n",
    "- https://onlineexifviewer.com/\n",
    "- ... many more\n",
    "\n",
    "these usually have one or more of the following limitations:\n",
    "- works only for small files\n",
    "- works only for image files\n",
    "- works only on a single file\n",
    "- does not allow writing metadata\n",
    "- raises security concerns, especially if you want to extract the metadata for sensitive files\n",
    "\n",
    "If none of the above is a limitation to your work, and many times it won't be, then you should use such online metadata extraction tool. If you do hit one or more of the limitations then the best thing to do is install and run ExifTool direclty.\n",
    "\n",
    "If you use this notebook, none of the above limitations will be a problem (only the image size depending on where you run the notebook). The instructions here should also work on your local computer but ExifTool needs to be installed differently on different operating systems, see [installing](https://exiftool.org/install.html)."
   ]
  },
  {
   "cell_type": "markdown",
   "metadata": {},
   "source": [
    "### Step 1 - install the tool on your system\n",
    "These commands are meant for a Mac/Unix system and will work on Google Colab and Binder."
   ]
  },
  {
   "cell_type": "code",
   "execution_count": null,
   "metadata": {},
   "outputs": [],
   "source": [
    "!apt install libimage-exiftool-perl"
   ]
  },
  {
   "cell_type": "markdown",
   "metadata": {},
   "source": [
    "If you get a `Permission denied` error that means you don't have installation permissions, if you do have those then you should be able to run the same command as a super user, and you'll need to enter your root credentials."
   ]
  },
  {
   "cell_type": "code",
   "execution_count": null,
   "metadata": {},
   "outputs": [],
   "source": [
    "!sudo apt install libimage-exiftool-perl"
   ]
  },
  {
   "cell_type": "markdown",
   "metadata": {},
   "source": [
    "### Step 2 - get metadata for a file"
   ]
  },
  {
   "cell_type": "markdown",
   "metadata": {},
   "source": [
    "By inspecting the metadata of a video on the ‘DNR’ People’s Militia telegram channel from February 18th 2022, Bellingcat [revealed](https://twitter.com/EliotHiggins/status/1495355366141534208) that the video was filmed days before the stated date (see article [here](https://www.bellingcat.com/news/2022/02/23/documenting-and-debunking-dubious-footage-from-ukraines-frontlines/)). \n",
    "\n",
    "In this example, we're downloading an archived version of the video and replicating that same analysis.\n",
    "\n",
    "The post in question is still available at time of writing so you can also go and download it directly from Telegram at https://t.me/nm_dnr/6192 . Telegram is one of the few social media networks that does not erase metadata tags from uploaded media. Still, this approach can still be valid on websites, uploaded documents, and more. \n",
    "\n",
    "We use `wget` to download the file and name `dnr.mp4` (it's around 100MB)."
   ]
  },
  {
   "cell_type": "code",
   "execution_count": null,
   "metadata": {},
   "outputs": [],
   "source": [
    "!wget \"https://bellingcat-archive.nyc3.cdn.digitaloceanspaces.com/no-dups/0d32acf6bcc1577e31cc8784/909064ea499345b9b8b2fcbc.mp4\" -O dnr.mp4 "
   ]
  },
  {
   "cell_type": "markdown",
   "metadata": {},
   "source": [
    "We can now call `exiftool` for this file and see its metadata tags.\n",
    "- left: the metadata tag name\n",
    "- right: the corresponding tag value\n",
    "\n",
    "  The first few entries such as `ExifTool Version Number` actually describe the environment and file location/name. \n",
    "\n",
    "You should read through the dozens of tags and analyse them, but do note:\n",
    "- `File Modification/Access` date and times pertain to your copy of the file\n",
    "- `Create Date`/`Media Create Date` are the original file's metadata and they point to `2022:02:08 10:29:30` that's 10 days before the claimed date\n",
    "\n",
    "This file contains many metadata tags from the video editing process:\n",
    "- `Pantry History Software Agent   : Adobe Premiere Pro CC 2018.1 (Windows)` describing software used\n",
    "- `Windows Atom Unc Project Path   : \\\\?\\M:\\Проекты\\2022\\02 Февраль\\2022-02-08 ДРГ++.prproj` describing the file path where the video project was saved\n",
    "- `Ingredients File Path           : 2021-02-04 ВИДЕО-ЗАПИСЬ ДРГ(+).mp4, 2021-02-04 ВИДЕО-ЗАПИСЬ ДРГ(+).mp4` ingredients aka other videos that were used to make the final video, using these names you can actually find the source material taken from a YouTube video of Finnish military exercises."
   ]
  },
  {
   "cell_type": "code",
   "execution_count": null,
   "metadata": {},
   "outputs": [],
   "source": [
    "!exiftool dnr.mp4"
   ]
  },
  {
   "cell_type": "markdown",
   "metadata": {},
   "source": [
    "Let's extract only metadata that has the word `date` in it. "
   ]
  },
  {
   "cell_type": "code",
   "execution_count": null,
   "metadata": {},
   "outputs": [],
   "source": [
    "!exiftool \"-*date*\" dnr.mp4"
   ]
  },
  {
   "cell_type": "markdown",
   "metadata": {},
   "source": [
    "It is usually a good idea to ask ExifTool for duplicate metadata tags (`-a`) along undefined ones (`-u`) as these can contain additional information, let's do that for the above command.\n",
    "\n",
    "You will notice many more entries, this is because only the latest non-duplicate metadata tags are showed by default. To analyse `dnr.mp4` you should call it with `-a` and `-u` and without any filter so you can see the chai of recorded video editing events. "
   ]
  },
  {
   "cell_type": "code",
   "execution_count": null,
   "metadata": {},
   "outputs": [],
   "source": [
    "!exiftool \"-*date*\" -a -u dnr.mp4"
   ]
  },
  {
   "cell_type": "markdown",
   "metadata": {},
   "source": [
    "### Step 3 - extract and search metadata from many files\n",
    "You can call ExifTool to extract the metadata tags of many files at the same time, ideally by having them all in the same folder or set of subfolders. You can additionally call it only for some file extensions or file name patterns.\n",
    "\n",
    "As an example we're creating 10 empty image files in an `images` folder, you could of course upload a folder or other documents."
   ]
  },
  {
   "cell_type": "code",
   "execution_count": null,
   "metadata": {},
   "outputs": [],
   "source": [
    "# creates 10 images inside the images/ folder\n",
    "!mkdir images; touch images/image{1..10}.jpg"
   ]
  },
  {
   "cell_type": "markdown",
   "metadata": {},
   "source": [
    "Below, we're calling exiftool for all JPG files (`-ext jpg`) recursively inside the images folder (`-r ./images`). "
   ]
  },
  {
   "cell_type": "code",
   "execution_count": null,
   "metadata": {},
   "outputs": [],
   "source": [
    "!exiftool -ext jpg -r ./images"
   ]
  },
  {
   "cell_type": "markdown",
   "metadata": {},
   "source": [
    "Now, we're doing the same filter but saving the results in CSV format and writing it to a `jpg_metadata.csv` file, you can then download and open it with either a text editor or a spreadsheets program for further analysis."
   ]
  },
  {
   "cell_type": "code",
   "execution_count": null,
   "metadata": {},
   "outputs": [],
   "source": [
    "!exiftool -csv -ext jpg -r ./images > jpg_metadata.csv"
   ]
  },
  {
   "cell_type": "markdown",
   "metadata": {},
   "source": [
    "### Step 4 - erase all metadata\n",
    "Sometimes it is useful to anonymise files by stripping off their metadata, ExifTool can do that for single files or even in batch.\n",
    "\n",
    "Let's create a copy of the dnr.mp4 file and remove all its editable metadata (by setting all tags to empty with `-all=`).\n",
    "\n",
    "Unless you use the `-overwrite_original` flag, ExifTool will move the original to a new filename ending in `_original`. If you do use the flag the metadata becomes irretrievable in your copy. "
   ]
  },
  {
   "cell_type": "code",
   "execution_count": null,
   "metadata": {},
   "outputs": [],
   "source": [
    "# copy to a new file\n",
    "!cp dnr.mp4 dnr_copy.mp4"
   ]
  },
  {
   "cell_type": "code",
   "execution_count": null,
   "metadata": {},
   "outputs": [],
   "source": [
    "# remove all metadata (ExifTool saves the original file to dnr_copy.mp4_original)\n",
    "!exiftool -all= dnr_copy.mp4"
   ]
  },
  {
   "cell_type": "code",
   "execution_count": null,
   "metadata": {},
   "outputs": [],
   "source": [
    "# this will remove all metadata and overwrite the dnr_copy.mp4 file\n",
    "!exiftool -all= -overwrite_original dnr_copy.mp4"
   ]
  },
  {
   "cell_type": "code",
   "execution_count": null,
   "metadata": {},
   "outputs": [],
   "source": [
    "# confirm that the relevant metadata has been removed\n",
    "!exiftool dnr_copy.mp4"
   ]
  },
  {
   "cell_type": "markdown",
   "metadata": {},
   "source": [
    "NB: Remember that metadata can be manually edited and its values should be cross-referenced with other open sources for increasing the certainty of a verification. "
   ]
  }
 ],
 "metadata": {
  "kernelspec": {
   "display_name": "open-source-research-notebooks-4sg58OrJ",
   "language": "python",
   "name": "python3"
  },
  "language_info": {
   "codemirror_mode": {
    "name": "ipython",
    "version": 3
   },
   "file_extension": ".py",
   "mimetype": "text/x-python",
   "name": "python",
   "nbconvert_exporter": "python",
   "pygments_lexer": "ipython3",
   "version": "3.10.12"
  }
 },
 "nbformat": 4,
 "nbformat_minor": 2
}
