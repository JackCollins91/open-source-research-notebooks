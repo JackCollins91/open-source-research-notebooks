{
 "cells": [
  {
   "cell_type": "markdown",
   "metadata": {},
   "source": [
    "# OpenAI's Whisper\n",
    "Whisper is a general-purpose speech recognition model. \n",
    "A tool to transcribe multi-lingual video and audio, and also to translate it into English.\n",
    "\n",
    "Read [the documentation](https://github.com/openai/whisper)."
   ]
  },
  {
   "cell_type": "markdown",
   "metadata": {},
   "source": [
    "### Step 1 - install Whisper and required libraries\n",
    "Whisper is a python library and can be installed with `pip`, it requires [ffmpeg](https://ffmpeg.org/) another tool that is used to manipulate media files, in this case its used to extract audio from videos before feeding them into Whisper, it's installed in the operating system `apt` is for Linux/Mac based systems."
   ]
  },
  {
   "cell_type": "code",
   "execution_count": null,
   "metadata": {},
   "outputs": [],
   "source": [
    "!pip install openai-whisper"
   ]
  },
  {
   "cell_type": "code",
   "execution_count": null,
   "metadata": {},
   "outputs": [],
   "source": [
    "!apt install ffmpeg"
   ]
  },
  {
   "cell_type": "code",
   "execution_count": null,
   "metadata": {},
   "outputs": [],
   "source": [
    "# call the help method to validate installation and see the available commands and options\n",
    "!whisper --help"
   ]
  },
  {
   "cell_type": "markdown",
   "metadata": {},
   "source": [
    "### Step 2 - make your video/audio available to the notebook\n",
    "As an example, we're downloading a copy of a ~3min video available on youtube at https://www.youtube.com/watch?v=c2ncxbXpHjs . "
   ]
  },
  {
   "cell_type": "code",
   "execution_count": null,
   "metadata": {},
   "outputs": [],
   "source": [
    "!wget https://bellingcat-embeds.ams3.cdn.digitaloceanspaces.com/open-source-research-notebooks/hannah-arendt.webm"
   ]
  },
  {
   "cell_type": "markdown",
   "metadata": {},
   "source": [
    "### Step 3 - transcribe the video\n",
    "The video is of an interview in German, so when we call Whisper it will perform its default `--task` which is transcribe. \n",
    "\n",
    "We need to specify what model should Whisper use, please see [available models](https://github.com/openai/whisper#available-models-and-languages). These differ in size and resources need, at the time of writing they are `tiny`, `base`, `small`, `medium`, and `large`. `tiny` is the smallest, requires 1GB of ram and is 32 times faster than `large` which requires 10GB of ram. The results of `tiny` may not be good enough for your use cases, though. You can still find the sweet spot for your type of audio by testing smaller models first. For this video, the `small` model works well enough. `large` may literally be too large for some free Notebook environments.\n",
    "\n",
    "The following command will transcribe using the small `--model`.\n",
    "\n",
    "The first time you call Whisper with a new model, it will be downloaded to your environment so it will always take longer on the first attempt.\n",
    "\n",
    "The duration of the transcription/translation depends on the model, on your system resources, and on the duration of the audio. "
   ]
  },
  {
   "cell_type": "code",
   "execution_count": null,
   "metadata": {},
   "outputs": [],
   "source": [
    "!whisper hannah-arendt.webm --model small"
   ]
  },
  {
   "cell_type": "markdown",
   "metadata": {},
   "source": [
    "### Step 4 - translate the video\n",
    "\n",
    "If the original audio is not English and you want it to be translated, you can specify the `--task` as `translate`.\n",
    "\n",
    "If you don't instruct the tool to write to a specific format, it will create a result file for all available formats which include `.txt`, `.srt` (subtitle), `.json` and a few others. You can ask for a single one, such as text, with `--output_format txt` (see the help and documentation for more info). "
   ]
  },
  {
   "cell_type": "code",
   "execution_count": null,
   "metadata": {},
   "outputs": [],
   "source": [
    "!whisper hannah-arendt.webm --model small --task translate --output_format txt"
   ]
  },
  {
   "cell_type": "markdown",
   "metadata": {},
   "source": [
    "You can download the resulting files and use/analyse them.\n",
    "\n",
    "Let's see the contents of `hannah-arendt.txt` with `cat`:"
   ]
  },
  {
   "cell_type": "code",
   "execution_count": null,
   "metadata": {},
   "outputs": [],
   "source": [
    "!cat hannah-arendt.txt"
   ]
  }
 ],
 "metadata": {
  "language_info": {
   "name": "python"
  }
 },
 "nbformat": 4,
 "nbformat_minor": 2
}
